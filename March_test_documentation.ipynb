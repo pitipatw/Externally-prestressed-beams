{
 "cells": [
  {
   "attachments": {},
   "cell_type": "markdown",
   "metadata": {},
   "source": [
    "This notebook is based on: \n",
    "    Flexural behavior of externally prestressed beams Part 1: Analytical models\"\n",
    "    Chee Khoon Ng, Kiang Hwee Tan. (2006)\n",
    "\n",
    "Variables that aren't realistic, but are used for testing purposes are:\n",
    "\n",
    "fc′ :concrete compressive strength (MPa)\\\n",
    "fpe :effective post tensioning stress (MPa) \n",
    "\n",
    "Distance from the support to loading point (Ls) and deviator (Ld) also changed by < 1 cm, so it was neglected. "
   ]
  },
  {
   "attachments": {},
   "cell_type": "markdown",
   "metadata": {},
   "source": [
    "Setup"
   ]
  },
  {
   "cell_type": "code",
   "execution_count": null,
   "metadata": {},
   "outputs": [],
   "source": [
    "using ProgressBars\n",
    "using Plots\n",
    "using CSV\n",
    "using DataFrames\n",
    "using UnPack"
   ]
  },
  {
   "attachments": {},
   "cell_type": "markdown",
   "metadata": {},
   "source": [
    "Inputs\\\n",
    "..........Notes..........\\\n",
    "Use Ld = Ls (this test only) \\\n",
    "Eccentricities measured from the neutral axis\\\n",
    "M is the moment in the constant region\\\n",
    "Mg = moment due to the selfweight\\\n",
    "M(x) is the moment equation due to the load\\\n",
    "Units N, mm, MPa"
   ]
  },
  {
   "cell_type": "code",
   "execution_count": 25,
   "metadata": {},
   "outputs": [
    {
     "name": "stdout",
     "output_type": "stream",
     "text": [
      "fc′ = 60.0 = 60.0\n",
      "Ec = 4700.0 * sqrt(fc′) = 36406.04345434972\n",
      "Eps = 70000.0 = 70000.0\n",
      "fpy = 0.002 * Eps = 140.0\n",
      "em = 230.0 = 230.0\n",
      "es = 0.0 = 0.0\n",
      "em0 = em = 230.0\n",
      "Ls = 502.7 = 502.7\n",
      "Ld = Ls = 502.7\n",
      "L = 2000.0 = 2000.0\n",
      "Aps = (2.0 * (0.25 * 25.4) ^ 2 * pi) / 4.0 = 63.33843488718721\n",
      "Atr = 18537.69 = 18537.69\n",
      "Itr = 8.9795e7 = 8.9795e7\n",
      "c = 141.75 = 141.75\n",
      "Zb = Itr / c = 633474.4268077601\n",
      "w = (Atr / 10 ^ 9) * 2400.0 * 9.81 = 0.43645137336\n",
      "mg = (w * L ^ 2) / 8.0 = 218225.68668\n",
      "fr = 0.7 * sqrt(fc′) = 5.422176684690384\n",
      "r = sqrt(Itr / Atr) = 69.59824199115002\n",
      "ps_force = 890 = 890\n",
      "fpe = 0.0 = 0.0\n"
     ]
    },
    {
     "data": {
      "text/plain": [
       "0.0"
      ]
     },
     "metadata": {},
     "output_type": "display_data"
    }
   ],
   "source": [
    "# Material Properties\n",
    "struct Material\n",
    "    fc′::Float64 # Concrete strength [MPa] ****Should update on the test day using cylinder test***\n",
    "    Ec::Float64 # MPa  ACI fc-> Concrete modulus relationship [MPa]\n",
    "    Eps::Float64 #Post tensioning steel modulus [MPa]\n",
    "    fpy::Float64 #MPa  \n",
    "    #Safe load on the website https://www.engineeringtoolbox.com/wire-rope-strength-d_1518.html \n",
    "    # is ~ 150 MPa. Currently 140 MPa :)\n",
    "end\n",
    "\n",
    "@show fc′= 60. #(*) Concrete strength [MPa] ****Should update on the test day using cylinder test***\n",
    "@show Ec = 4700.0*sqrt(fc′) # MPa  ACI fc-> Concrete modulus relationship [MPa]\n",
    "@show Eps = 70000.0 #Post tensioning steel modulus [MPa]\n",
    "@show fpy = 0.002*Eps #MPa  \n",
    "#Safe load on the website https://www.engineeringtoolbox.com/wire-rope-strength-d_1518.html \n",
    "# is ~ 150 MPa. Currently 140 MPa :)\n",
    "\n",
    "struct Section\n",
    "    em::Float64 # Eccentricity at the middle of the member [mm]\n",
    "    es::Float64 # Eccentricity at the support of the member   [mm]\n",
    "    em0::Float64 # Initial eccentricity at the midspan        [mm]\n",
    "    Ls::Float64 # Distance from support to the first load point [mm]\n",
    "    Ld::Float64 # Distance from support to the first deviator [mm]\n",
    "    L::Float64 # Total length of the member [mm]\n",
    "    # two 1/4\" bars with 1200 lb capacity\n",
    "    Aps::Float64 # Total area of the steel in the section [mm^2]\n",
    "    Atr::Float64 # Transformed area of the cross section [mm^2]\n",
    "    Itr::Float64 # Moment of inertia of the transformed cross section [mm^4]\n",
    "    Zb::Float64 # Section modulus of the concrete section from the centroid to extreme tension fiber [mm^3]\n",
    "end\n",
    "\n",
    "# PixelFrame section/element properties\n",
    "# Eccentricity is measured from the centroid of the concrete crossection to the centroid of the steels\n",
    "@show em = 230.0 # Eccentricity at the middle of the member [mm]\n",
    "# Since the ropes at the supports are at the centroid of the concrete section\n",
    "@show es = 0.0    # Eccentricity at the support of the member[mm]\n",
    "@show em0 = em   # Initial eccentricity at the midspan      [mm]\n",
    "@show Ls = 502.7 # Distance from support to the first load point [mm]\n",
    "@show Ld = Ls    # Distance from support to the first deviator [mm]\n",
    "@show L = 2000.0 # Total length of the member [mm]\n",
    "\n",
    "# Steel properties\n",
    "    # two 1/4\" bars with 1200 lb capacity\n",
    "@show Aps = 2.0*(0.25*25.4)^2*pi/4.0 # Total area of the post tensioned steel [mm2]\n",
    "# If there are multiple materials, transformed section geometry is needed for Zb (and everything related to section area)\n",
    "\n",
    "@show Atr = 18537.69 # Transformed area of the cross section [mm2]\n",
    "\n",
    "# v -> possible error.\n",
    "@show Itr  = 8.9795e7 # Moment of inertia of the transformed cross section [mm4]\n",
    "# # Section modulus of the concrete section from the centroid to extreme tension fiber [mm3]\n",
    "@show c = 141.75 # Distance from the centroid of the concrete section to the centroid of the steel section [mm]\n",
    "@show Zb = Itr/c\n",
    "\n",
    "# Its was = 6.4198e+07 #moment of inertia [mm4]\n",
    "# Zb  was = 452894.24\n",
    "\n",
    "struct Loads\n",
    "    w::Float64 # Selfweight [N/mm]\n",
    "    mg::Float64 # Moment due to selfweight [Nmm]\n",
    "    fr::Float64 # Concrete cracking strenght [MPa]\n",
    "    r::Float64 # Radius of gyration [mm]\n",
    "    ps_force::Float64 # Post tensioning force [N]\n",
    "    fpe::Float64 # Effective post tensioning stress [MPa]\n",
    "end\n",
    "\n",
    "# Apply loads\n",
    "# assume concrete density = 2400 kg/m3\n",
    "@show w = Atr/10^9*2400.0*9.81 # Selfweight [N/mm]\n",
    "@show mg = w*L^2/8.0 # Moment due to selfweight [Nmm]\n",
    "@show fr = 0.7*sqrt(fc′) # Concrete cracking strenght [MPa]\n",
    "@show r  = sqrt(Itr/Atr) # Radius of gyration [mm]\n",
    "@show ps_force = 890 # Post tensioning force [N]\n",
    "\n",
    "# ***possible error\n",
    "# we dont know the effective post tensioning stress\n",
    "@show fpe = 0.0 #ps_force/Aps # Effective post tensioning stress [MPa] ***will input the one on the test day***\n"
   ]
  },
  {
   "cell_type": "code",
   "execution_count": 24,
   "metadata": {},
   "outputs": [
    {
     "data": {
      "text/plain": [
       "Loads(0.43645137336, 218225.68668, 5.422176684690384, 69.59824199115002, 890.0, 0.0)"
      ]
     },
     "metadata": {},
     "output_type": "display_data"
    }
   ],
   "source": [
    "# Create structs\n",
    "Mat = Material(fc′, Ec, Eps, fpy)\n",
    "Sec = Section(em, es, em0, Ls, Ld, L, Aps, Atr, Itr, Zb)\n",
    "f   = Loads(w, mg, fr, r, ps_force, fpe)"
   ]
  },
  {
   "attachments": {},
   "cell_type": "markdown",
   "metadata": {},
   "source": [
    "Function definitions\n",
    "[In the same order as in the paper]\n"
   ]
  },
  {
   "cell_type": "code",
   "execution_count": null,
   "metadata": {},
   "outputs": [],
   "source": [
    "\"\"\"\n",
    "(2)\n",
    "\"\"\"\n",
    "function getFps(Mat::Material, Sec::Section, f::Loads, Ω::Float64, M::Float64, e::Float64)\n",
    "\n",
    "    @unpack fc′, Ec, Eps, fpy = Mat\n",
    "    @unpack Aps, Atr, Itr, Zb = Sec\n",
    "    @unpack r, fpe = f\n",
    "\n",
    "    A = (Ω*M*e) # [A]bove term \n",
    "    B = (Itr*Ec/Eps + Aps*(r^2+e^2)*Ω) # [B]elow term\n",
    "    fps = fpe + A/B\n",
    "    if fps> fpy \n",
    "        fps = fpy\n",
    "        println(\"Exceeds the yielding stress-> fps = fpy = $fpy\")\n",
    "    end\n",
    "    return fps\n",
    "end\n",
    "\n",
    "\"\"\"\n",
    "(4) \n",
    "Only calculate once\n",
    "\"\"\"\n",
    "function getMcr(Mat::Material, Sec::Section, f::Loads, Ω::Float64) \n",
    "    @unpack fc′, Ec, Eps, fpy = Mat\n",
    "    @unpack Aps, Atr, Itr, Zb = Sec\n",
    "    @unpack w, mg, fr, r, fpe = f\n",
    "\n",
    "    \n",
    "    @show mcre = Aps*fpe*(em + Zb/Atr) + (fr * Zb) # Cracking moment due to initial effective prestress (mcre)\n",
    "    @assert mcre > 0 # mcre should be positive\n",
    "    @show dmcr = (Aps*em*(em + Zb/Atr)*(mcre - mg)) / ((1/omega*Itr*Ec/Eps) + Aps*(r^2-em*Zb/Atr)) # Moment due to stress increase in external tendons.\n",
    "    @assert dmcr > 0\n",
    "    mcr = mcre + dmcr\n",
    "    return mcr\n",
    "end"
   ]
  }
 ],
 "metadata": {
  "kernelspec": {
   "display_name": "Julia 1.8.4",
   "language": "julia",
   "name": "julia-1.8"
  },
  "language_info": {
   "file_extension": ".jl",
   "mimetype": "application/julia",
   "name": "julia",
   "version": "1.8.4"
  },
  "orig_nbformat": 4
 },
 "nbformat": 4,
 "nbformat_minor": 2
}
