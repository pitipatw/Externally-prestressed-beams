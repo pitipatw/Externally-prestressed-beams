{
 "cells": [
  {
   "attachments": {},
   "cell_type": "markdown",
   "metadata": {},
   "source": [
    "This notebook is based on: \n",
    "    Flexural behavior of externally prestressed beams Part 1: Analytical models\"\n",
    "    Chee Khoon Ng, Kiang Hwee Tan. (2006)\n",
    "\n",
    "Variables that aren't realistic, but are used for testing purposes are:\n",
    "\n",
    "fc′ :concrete compressive strength (MPa)\\\n",
    "fpe :effective post tensioning stress (MPa) \n",
    "\n",
    "Distance from the support to loading point (Ls) and deviator (Ld) also changed by < 1 cm, so it was neglected. "
   ]
  },
  {
   "attachments": {},
   "cell_type": "markdown",
   "metadata": {},
   "source": [
    "Setup"
   ]
  },
  {
   "cell_type": "code",
   "execution_count": 1,
   "metadata": {},
   "outputs": [],
   "source": [
    "using ProgressBars\n",
    "using CSV\n",
    "using DataFrames\n",
    "using UnPack\n",
    "using Makie, GLMakie"
   ]
  },
  {
   "attachments": {},
   "cell_type": "markdown",
   "metadata": {},
   "source": [
    "Todo\n",
    "Plot everything out vs displacement. \n",
    "\n",
    "Check every variable that can be checked. (e mid , forces (static) , )\n"
   ]
  },
  {
   "attachments": {},
   "cell_type": "markdown",
   "metadata": {},
   "source": [
    "Inputs\\\n",
    "..........Notes..........\\\n",
    "Use Ld = Ls (this test only) \\\n",
    "Eccentricities measured from the neutral axis\\\n",
    "M is the moment in the constant region\\\n",
    "Mg = moment due to the selfweight\\\n",
    "M(x) is the moment equation due to the load\\\n",
    "Units N, mm, MPa"
   ]
  },
  {
   "cell_type": "code",
   "execution_count": 2,
   "metadata": {},
   "outputs": [
    {
     "name": "stdout",
     "output_type": "stream",
     "text": [
      "fc′ = 36.0 = 36.0\n",
      "Ec = 4867.0 = 4867.0\n",
      "Eps = 70000.0 = 70000.0\n",
      "fpy = 0.002 * Eps = 140.0\n",
      "em = 225.76 = 225.76\n",
      "es = 4.24 = 4.24\n",
      "em0 = em = 225.76\n",
      "Ls = 502.7 = 502.7\n",
      "Ld = Ls = 502.7\n",
      "L = 2000.0 = 2000.0\n",
      "Aps = (2.0 * (0.25 * 25.4) ^ 2 * pi) / 4.0 = 63.33843488718721\n",
      "Atr = 18537.69 + 347.96 = 18885.649999999998\n",
      "Itr = 1.0788e8 = 1.0788e8\n",
      "c = 137.51 = 137.51\n",
      "Zb = Itr / c = 784524.7618355029\n",
      "w = (Atr / 10 ^ 9) * 2400.0 * 9.81 = 0.4446437436\n",
      "mg = (w * L ^ 2) / 8.0 = 222321.8718\n",
      "fr = 0.7 * sqrt(fc′) = 4.199999999999999\n",
      "r = sqrt(Itr / Atr) = 75.57958457521578"
     ]
    },
    {
     "name": "stdout",
     "output_type": "stream",
     "text": [
      "\n",
      "fpe = force_in_each_side / Aps = 32.87510019600154\n"
     ]
    },
    {
     "data": {
      "text/plain": [
       "32.87510019600154"
      ]
     },
     "metadata": {},
     "output_type": "display_data"
    }
   ],
   "source": [
    "# Material Properties\n",
    "struct Material\n",
    "    fc′::Float64 # Concrete strength [MPa] ****Should update on the test day using cylinder test***\n",
    "    Ec::Float64 # MPa  ACI fc-> Concrete modulus relationship [MPa]\n",
    "    Eps::Float64 #Post tensioning steel modulus [MPa]\n",
    "    fpy::Float64 #MPa  \n",
    "    #Safe load on the website https://www.engineeringtoolbox.com/wire-rope-strength-d_1518.html \n",
    "    # is ~ 150 MPa. Currently 140 MPa :)\n",
    "end\n",
    "\n",
    "@show fc′= 36.0 #(*) Concrete strength [MPa] ****Should update on the test day using cylinder test***\n",
    "@show Ec = 4867.0 #4700.0*sqrt(fc′) # MPa  ACI fc-> Concrete modulus relationship [MPa]\n",
    "@show Eps = 70000.0 #Post tensioning steel modulus [MPa]\n",
    "@show fpy = 0.002*Eps #MPa  \n",
    "#Safe load on the website https://www.engineeringtoolbox.com/wire-rope-strength-d_1518.html \n",
    "# is ~ 150 MPa. Currently 140 MPa :)\n",
    "\n",
    "struct Section\n",
    "    em::Float64 # Eccentricity at the middle of the member [mm]\n",
    "    es::Float64 # Eccentricity at the support of the member   [mm]\n",
    "    em0::Float64 # Initial eccentricity at the midspan        [mm]\n",
    "    Ls::Float64 # Distance from support to the first load point [mm]\n",
    "    Ld::Float64 # Distance from support to the first deviator [mm]\n",
    "    L::Float64 # Total length of the member [mm]\n",
    "    # two 1/4\" bars with 1200 lb capacity\n",
    "    Aps::Float64 # Total area of the steel in the section [mm^2]\n",
    "    Atr::Float64 # Transformed area of the cross section [mm^2]\n",
    "    Itr::Float64 # Moment of inertia of the transformed cross section [mm^4]\n",
    "    Zb::Float64 # Section modulus of the concrete section from the centroid to extreme tension fiber [mm^3]\n",
    "end\n",
    "\n",
    "# PixelFrame section/element properties\n",
    "# Eccentricity is measured from the centroid of the concrete crossection to the centroid of the steels\n",
    "@show em = 225.76 # Eccentricity at the middle of the member [mm]\n",
    "# Since the ropes at the supports are at the centroid of the concrete section\n",
    "@show es = 4.24    # Eccentricity at the support of the member[mm]\n",
    "@show em0 = em   # Initial eccentricity at the midspan      [mm]\n",
    "@show Ls = 502.7 # Distance from support to the first load point [mm]\n",
    "@show Ld = Ls    # Distance from support to the first deviator [mm]\n",
    "@show L = 2000.0 # Total length of the member [mm]\n",
    "\n",
    "# Steel properties\n",
    "    # two 1/4\" bars with 1200 lb capacity\n",
    "@show Aps = 2.0*(0.25*25.4)^2*pi/4.0 # Total area of the post tensioned steel [mm2]\n",
    "# If there are multiple materials, transformed section geometry is needed for Zb (and everything related to section area)\n",
    "\n",
    "@show Atr = 18537.69 + 347.96  # Transformed area of the cross section (Concrete + Steel) [mm2]\n",
    "\n",
    "# v -> possible error.\n",
    "#previous value : 8.9795e7\n",
    "@show Itr  = 1.0788e8  # Moment of inertia of the transformed cross section [mm4]\n",
    "# # Section modulus of the concrete section from the centroid to extreme tension fiber [mm3]\n",
    "@show c = 137.51 # Distance from the centroid of the entire section to the centroid of the steel section (extreme tension) [mm]\n",
    "@show Zb = Itr/c\n",
    "\n",
    "# Its was = 6.4198e+07 #moment of inertia [mm4]\n",
    "# Zb  was = 452894.24\n",
    "\n",
    "struct Loads\n",
    "    w::Float64 # Selfweight [N/mm]\n",
    "    mg::Float64 # Moment due to selfweight [Nmm]\n",
    "    fr::Float64 # Concrete cracking strenght [MPa]\n",
    "    r::Float64 # Radius of gyration [mm]\n",
    "    #ps_force::Float64 # Post tensioning force [N]\n",
    "    fpe::Float64 # Effective post tensioning stress [MPa]\n",
    "end\n",
    "\n",
    "# Apply loads\n",
    "# assume concrete density = 2400 kg/m3\n",
    "@show w = Atr/10^9*2400.0*9.81 # Selfweight [N/mm]\n",
    "@show mg = w*L^2/8.0 # Moment due to selfweight [Nmm]\n",
    "@show fr = 0.7*sqrt(fc′) # Concrete cracking strenght [MPa]\n",
    "@show r  = sqrt(Itr/Atr) # Radius of gyration [mm]\n",
    "#@show ps_force = 890 # Post tensioning force [N]\n",
    "\n",
    "# ***possible error\n",
    "# we dont know the effective post tensioning stress\n",
    "# upward force during the tensionig phase was 200lb \n",
    "upward_force_N = 200 * 4.4 ;\n",
    "force_in_each_side = upward_force_N/sind(25.);\n",
    "@show fpe = force_in_each_side/Aps #ps_force/Aps # Effective post tensioning stress [MPa] ***will input the one on the test day***\n",
    "\n",
    "#calculate fpe.\n"
   ]
  },
  {
   "cell_type": "code",
   "execution_count": 3,
   "metadata": {},
   "outputs": [
    {
     "data": {
      "text/plain": [
       "Loads(0.4446437436, 222321.8718, 4.199999999999999, 75.57958457521578, 32.87510019600154)"
      ]
     },
     "metadata": {},
     "output_type": "display_data"
    }
   ],
   "source": [
    "# Create structs\n",
    "Mat = Material(fc′, Ec, Eps, fpy)\n",
    "Sec = Section(em, es, em0, Ls, Ld, L, Aps, Atr, Itr, Zb)\n",
    "f   = Loads(w, mg, fr, r, fpe)"
   ]
  },
  {
   "attachments": {},
   "cell_type": "markdown",
   "metadata": {},
   "source": [
    "Function definitions\n",
    "[In the same order as in the paper]\n"
   ]
  },
  {
   "cell_type": "code",
   "execution_count": 4,
   "metadata": {},
   "outputs": [],
   "source": [
    "\"\"\"\n",
    "(2)\n",
    "\"\"\"\n",
    "function getFps(Mat::Material, Sec::Section, f::Loads, Ω::Float64, M::Float64, e::Float64)\n",
    "\n",
    "    @unpack fc′, Ec, Eps, fpy = Mat\n",
    "    @unpack Aps, Atr, Itr, Zb = Sec\n",
    "    @unpack r, fpe = f\n",
    "\n",
    "    A = (Ω*M*e) # [A]bove term \n",
    "    B = (Itr*Ec/Eps + Aps*(r^2+e^2)*Ω) # [B]elow term\n",
    "    fps = fpe + A/B\n",
    "    if fps> fpy \n",
    "        fps = fpy\n",
    "        println(\"Exceeds the yielding stress-> fps = fpy = $fpy\")\n",
    "    end\n",
    "    return fps\n",
    "end\n",
    "\n",
    "\"\"\"\n",
    "(3) \n",
    "Only calculate once\n",
    "\"\"\"\n",
    "function getMcr(Mat::Material, Sec::Section, f::Loads, Ω::Float64 ) \n",
    "    @unpack fc′, Ec, Eps, fpy = Mat\n",
    "    @unpack Aps, Atr, Itr, Zb, em = Sec\n",
    "    @unpack w, mg, fr, r, fpe = f\n",
    "\n",
    "    \n",
    "    @show mcre = Aps*fpe*(em + Zb/Atr) + (fr * Zb) # Cracking moment due to initial effective prestress (mcre)\n",
    "    @assert mcre > 0 # mcre should be positive\n",
    "    @show dmcr = (Aps*em*(em + Zb/Atr)*(mcre - mg)) / ((1/Ω*Itr*Ec/Eps) + Aps*(r^2-em*Zb/Atr)) # Moment due to stress increase in external tendons.\n",
    "    @assert dmcr > 0\n",
    "    mcr = mcre + dmcr\n",
    "    return mcr\n",
    "end\n",
    "\n",
    "\"\"\"\n",
    "(6b, Ld >= Ls)\n",
    "Bond reduction coefficient for the linear elastic uncracked regime, Naaman's\n",
    "\"\"\"\n",
    "function getOmega(Sec::Section)\n",
    "    @unpack em, es, Ls, Ld, L = Sec\n",
    "    Ω = 1.0 - (es / em)*(Ls/L) + (es - em)/ em * (Ls^2/(3*L*Ld) +Ld/L)\n",
    "    return Ω\n",
    "end\n",
    "\n",
    "\"\"\"\n",
    "(12)\n",
    "\"\"\"\n",
    "function getDelta(Mat::Material, Sec::Section, f::Loads, Ω::Float64, M::Float64, e::Float64)\n",
    "\n",
    "    @unpack fc′, Ec, Eps, fpy = Mat\n",
    "    @unpack Aps, Atr, Itr, Zb, em, es, Ls, Ld, L = Sec\n",
    "    @unpack w, mg, fr, r, fpe = f\n",
    "    \n",
    "    #displacement \n",
    "    # due to the PS force\n",
    "    #at mid span\n",
    "    δ_mid⁻ = fps*Aps/(Ec*Itr) * (em * L^2 / 8 - (em-es)*Ls^2/6)\n",
    "    # at deviator \n",
    "    δ_dev⁻ = fps*Aps/(Ec*Itr)*(es*Ls^2/6 + em*(L*Ls/2-2/3*Ls^2))\n",
    "\n",
    "    # due to the applied force\n",
    "    #at the mid span\n",
    "    δ_mid⁺ = M*L^2/(6*Ec*Itr)*(3/4-(Ls/L)^2)\n",
    "    # at a deviator\n",
    "    δ_dev⁺ = M*L^2/(6*Ec*Itr)*( 3*(Ls/L)*(1-Ls/L)-(Ls/L)^2)\n",
    "\n",
    "    δ_mid = δ_mid⁺ - δ_mid⁻\n",
    "\n",
    "\n",
    "    δ_mid_cal = M*L^2/(6*Ec*Itr)*(3/4-(Ls/L)^2) - fps*Aps/(Ec*Itr) * (e * L^2 / 8 - (e-es)*Ls^2/6)\n",
    "    @assert abs(δ_mid - δ_mid_cal) < 1e-9\n",
    "    Δ = δ_mid - (δ_dev⁺ - δ_dev⁻)\n",
    "    K1 = Ls/L-1 \n",
    "    K2 = 0.0\n",
    "    Δcalc = M*L^2/(6*Ec*Itr)*(3 * (Ls/L) * K1 + 3/4 + K2) - fps*Aps*e/(Ec*Itr)*(L^2/8 - L*Ls/2 + Ls^2/2)\n",
    "\n",
    "    # @show Δ - Δcalc\n",
    "    @assert abs(Δ - Δcalc) < 1e-9\n",
    "    return Δ, δ_mid\n",
    "end\n",
    "\n",
    "df = CSV.File(joinpath(@__DIR__,\"pixelframe_beam1.csv\"));\n",
    "df = DataFrame(df);\n",
    "test_P = df[!,2];\n",
    "test_d = df[!,3] ;\n"
   ]
  },
  {
   "cell_type": "markdown",
   "metadata": {},
   "source": [
    "(re)Set containers"
   ]
  },
  {
   "cell_type": "code",
   "execution_count": 5,
   "metadata": {},
   "outputs": [
    {
     "name": "stdout",
     "output_type": "stream",
     "text": [
      "mcre = Aps * fpe * (em + Zb / Atr) + fr * Zb = 3.8515930394017724e6\n",
      "dmcr = (Aps * em * (em + Zb / Atr) * (mcre - mg)) / (((1 / Ω) * Itr * Ec) / Eps + Aps * (r ^ 2 - (em * Zb) / Atr)) = 1.2584745330744905e6\n"
     ]
    }
   ],
   "source": [
    "#Initiate load forces in lb\n",
    "P_lb = 0:10:4000  #[lb]\n",
    "\n",
    "#convert to N\n",
    "P_N  = 4.448*P_lb # [N]\n",
    "\n",
    "#Use N and mm for the rest of the calculation\n",
    "P = P_N\n",
    "\n",
    "#Moment at the mid span\n",
    "M = P*Ls/2.\n",
    "\n",
    "#Run these 2 lines first, thye dont change during the calculation.\n",
    "Ω = getOmega(Sec) # [unitless]\n",
    "mcr = getMcr(Mat, Sec, f, Ω ) ; # [Nmm]\n",
    "\n",
    "# set containers for output\n",
    "\n",
    "#Total displacement at mid span\n",
    "displacements = zeros(length(M));\n",
    "\n",
    "#Displacement from the PS force at mid span\n",
    "displacements_mid = zeros(length(M));\n",
    "\n",
    "#check if any stage of the calculation exceeds the iteration limit\n",
    "iteration_exceeded = zeros(length(M)) ;\n",
    "#Maxmum iteration in each loop\n",
    "max_it = 10000;\n",
    "\n",
    "# initial guess of the stress in the tendons.\n",
    "fps = fpe ;\n",
    "\n",
    "#will have to update at the end as the current fps and use that in the next loop.\n",
    "fps_old = fpe ;\n",
    "\n",
    "fps_sub_hist = zeros(max_it);\n",
    "fps_his = zeros(length(M));\n",
    "e_his = zeros(length(M));"
   ]
  },
  {
   "cell_type": "code",
   "execution_count": 17,
   "metadata": {},
   "outputs": [],
   "source": [
    "#loop M\n",
    "for i in eachindex(M) #ProgressBar(eachindex(M))\n",
    "    #value of the current applied moment\n",
    "    Mi = M[i] \n",
    "\n",
    "    #Check if moment is less than the critical moment\n",
    "    if Mi <= mcr\n",
    "       \n",
    "        # println(\"Moment is less than the critical moment\")\n",
    "        # println(\"M = $Mi, Mcr = $mcr\")\n",
    "\n",
    "        conv = 1.\n",
    "        tol = 1e-6\n",
    "   \n",
    "        it = 0\n",
    "        while conv > tol\n",
    "            it += 1 \n",
    "            if it > max_it\n",
    "                println(\"Maximum number of iterations reached for M = $Mi\")\n",
    "                iteration_exceeded[i] = 1\n",
    "                break\n",
    "            end\n",
    "\n",
    "            #calculate the total deflection\n",
    "            Δ, δ_mid = getDelta(Mat, Sec, f, Ω, Mi, em)\n",
    "\n",
    "            #find the actual eccentricity of the tendon\n",
    "            global e = em - Δ \n",
    "\n",
    "            #calculate the stress in the tendons, limited by fpy\n",
    "            fps_new = getFps(Mat, Sec, f, Ω, Mi, e)\n",
    "\n",
    "            conv = abs(fps_new - fps_old)/fps_old\n",
    "            fps_old = fps_new # this one used for the next loop.\n",
    "        end\n",
    "        \n",
    "        e_his[i] = e\n",
    "        set_Δ, displacements[i] = getDelta(Mat, Sec, f, Ω, Mi, em)\n",
    "      \n",
    "        fps_his[i] = fps_old\n",
    "        \n",
    "    elseif Mi > mcr \n",
    "        println(Mi) \n",
    "        Pi = P[i]\n",
    "        Pi_kips = Pi/4.44822/1000.\n",
    "        global endidx = i\n",
    "        println(\"Exceeds the cracking moment at load = $Pi N ($Pi_kips kips)\")\n",
    "        println(\"Using Linear Crack scheme\")\n",
    "        println(\"EXIT LOOP\")\n",
    "        break\n",
    "    elseif Mi > My\n",
    "        println(\"Exceeds the yielding moment\")\n",
    "        println(\"Beam reaching Ultimate Moment capacity (Mu) and will fail\")\n",
    "    else\n",
    "        println(\"Something is wrong\")\n",
    "    end\n",
    "    endidx = i\n",
    "end\n"
   ]
  },
  {
   "cell_type": "code",
   "execution_count": 18,
   "metadata": {},
   "outputs": [
    {
     "data": {
      "text/plain": [
       "visualize_plot (generic function with 1 method)"
      ]
     },
     "metadata": {},
     "output_type": "display_data"
    }
   ],
   "source": [
    "# Create visualize plot function \n",
    "function visualize_plot(x,y,Xlabel, Ylabel, TITLE, )\n",
    "\n",
    "end\n"
   ]
  },
  {
   "cell_type": "code",
   "execution_count": 27,
   "metadata": {},
   "outputs": [
    {
     "name": "stdout",
     "output_type": "stream",
     "text": [
      "401\n",
      "slope = P[endidx] / displacements[endidx] = 5099.08387656615\n"
     ]
    },
    {
     "ename": "MethodError",
     "evalue": "MethodError: no method matching gl_convert(::String)\nClosest candidates are:\n  gl_convert(!Matched::T) where T<:GeometryBasics.Mesh at C:\\Users\\Piti_\\.julia\\packages\\GLMakie\\N16Fq\\src\\GLAbstraction\\GLUniforms.jl:196\n  gl_convert(!Matched::T) where T<:GeometryBasics.AbstractMesh at C:\\Users\\Piti_\\.julia\\packages\\GLMakie\\N16Fq\\src\\GLAbstraction\\GLUniforms.jl:195\n  gl_convert(!Matched::T) where T<:ColorTypes.Colorant at C:\\Users\\Piti_\\.julia\\packages\\GLMakie\\N16Fq\\src\\GLAbstraction\\GLUniforms.jl:194\n  ...",
     "output_type": "error",
     "traceback": [
      "MethodError: no method matching gl_convert(::String)\n",
      "Closest candidates are:\n",
      "  gl_convert(!Matched::T) where T<:GeometryBasics.Mesh at C:\\Users\\Piti_\\.julia\\packages\\GLMakie\\N16Fq\\src\\GLAbstraction\\GLUniforms.jl:196\n",
      "  gl_convert(!Matched::T) where T<:GeometryBasics.AbstractMesh at C:\\Users\\Piti_\\.julia\\packages\\GLMakie\\N16Fq\\src\\GLAbstraction\\GLUniforms.jl:195\n",
      "  gl_convert(!Matched::T) where T<:ColorTypes.Colorant at C:\\Users\\Piti_\\.julia\\packages\\GLMakie\\N16Fq\\src\\GLAbstraction\\GLUniforms.jl:194\n",
      "  ...\n",
      "\n",
      "Stacktrace:\n",
      "  [1] #map#13\n",
      "    @ C:\\Users\\Piti_\\.julia\\packages\\Observables\\PHGQ8\\src\\Observables.jl:564 [inlined]\n",
      "  [2] map\n",
      "    @ C:\\Users\\Piti_\\.julia\\packages\\Observables\\PHGQ8\\src\\Observables.jl:562 [inlined]\n",
      "  [3] const_lift\n",
      "    @ C:\\Users\\Piti_\\.julia\\packages\\GLMakie\\N16Fq\\src\\GLAbstraction\\GLUtils.jl:106 [inlined]\n",
      "  [4] gl_convert(s::Observable{String})\n",
      "    @ GLMakie.GLAbstraction C:\\Users\\Piti_\\.julia\\packages\\GLMakie\\N16Fq\\src\\GLAbstraction\\GLUniforms.jl:228\n",
      "  [5] GLMakie.GLAbstraction.RenderObject(data::Dict{Symbol, Any}, program::GLMakie.GLVisualizeShader, pre::GLMakie.GLAbstraction.StandardPrerender, post::GLFW.Window, context::GLFW.Window)\n",
      "    @ GLMakie.GLAbstraction C:\\Users\\Piti_\\.julia\\packages\\GLMakie\\N16Fq\\src\\GLAbstraction\\GLTypes.jl:425\n",
      "  [6] GLMakie.GLAbstraction.RenderObject(data::Dict{Symbol, Any}, program::GLMakie.GLVisualizeShader, pre::GLMakie.GLAbstraction.StandardPrerender, post::GLFW.Window)\n",
      "    @ GLMakie.GLAbstraction C:\\Users\\Piti_\\.julia\\packages\\GLMakie\\N16Fq\\src\\GLAbstraction\\GLTypes.jl:399\n",
      "  [7] assemble_shader(data::Dict{Symbol, Any})\n",
      "    @ GLMakie C:\\Users\\Piti_\\.julia\\packages\\GLMakie\\N16Fq\\src\\glshaders\\visualize_interface.jl:108\n",
      "  [8] draw_scatter(screen::Any, ::Any, data::Any)\n",
      "    @ GLMakie C:\\Users\\Piti_\\.julia\\packages\\GLMakie\\N16Fq\\src\\glshaders\\particles.jl:213\n",
      "  [9] (::GLMakie.var\"#182#189\"{GLMakie.Screen{GLFW.Window}, Scene, Scatter{Tuple{Vector{Point{2, Float32}}}}})(gl_attributes::Dict{Symbol, Any})\n",
      "    @ GLMakie C:\\Users\\Piti_\\.julia\\packages\\GLMakie\\N16Fq\\src\\drawing_primitives.jl:257\n",
      " [10] (::GLMakie.var\"#168#171\"{GLMakie.var\"#182#189\"{GLMakie.Screen{GLFW.Window}, Scene, Scatter{Tuple{Vector{Point{2, Float32}}}}}, GLMakie.Screen{GLFW.Window}, Scene, Scatter{Tuple{Vector{Point{2, Float32}}}}})()\n",
      "    @ GLMakie C:\\Users\\Piti_\\.julia\\packages\\GLMakie\\N16Fq\\src\\drawing_primitives.jl:111\n",
      " [11] get!(default::GLMakie.var\"#168#171\"{GLMakie.var\"#182#189\"{GLMakie.Screen{GLFW.Window}, Scene, Scatter{Tuple{Vector{Point{2, Float32}}}}}, GLMakie.Screen{GLFW.Window}, Scene, Scatter{Tuple{Vector{Point{2, Float32}}}}}, h::Dict{UInt64, GLMakie.GLAbstraction.RenderObject}, key::UInt64)\n",
      "    @ Base .\\dict.jl:481\n",
      " [12] cached_robj!(robj_func::GLMakie.var\"#182#189\"{GLMakie.Screen{GLFW.Window}, Scene, Scatter{Tuple{Vector{Point{2, Float32}}}}}, screen::GLMakie.Screen{GLFW.Window}, scene::Scene, x::Scatter{Tuple{Vector{Point{2, Float32}}}})\n",
      "    @ GLMakie C:\\Users\\Piti_\\.julia\\packages\\GLMakie\\N16Fq\\src\\drawing_primitives.jl:84\n",
      " [13] draw_atomic\n",
      "    @ C:\\Users\\Piti_\\.julia\\packages\\GLMakie\\N16Fq\\src\\drawing_primitives.jl:198 [inlined]\n",
      " [14] insert!(screen::GLMakie.Screen{GLFW.Window}, scene::Scene, x::Scatter{Tuple{Vector{Point{2, Float32}}}})\n",
      "    @ GLMakie C:\\Users\\Piti_\\.julia\\packages\\GLMakie\\N16Fq\\src\\drawing_primitives.jl:126\n",
      " [15] insertplots!(screen::GLMakie.Screen{GLFW.Window}, scene::Scene)\n",
      "    @ GLMakie C:\\Users\\Piti_\\.julia\\packages\\GLMakie\\N16Fq\\src\\screen.jl:435\n",
      " [16] insertplots!(screen::GLMakie.Screen{GLFW.Window}, scene::Scene) (repeats 2 times)\n",
      "    @ GLMakie C:\\Users\\Piti_\\.julia\\packages\\GLMakie\\N16Fq\\src\\screen.jl:438\n",
      " [17] display_scene!(screen::GLMakie.Screen{GLFW.Window}, scene::Scene)\n",
      "    @ GLMakie C:\\Users\\Piti_\\.julia\\packages\\GLMakie\\N16Fq\\src\\screen.jl:374\n",
      " [18] GLMakie.Screen(scene::Scene, config::GLMakie.ScreenConfig; visible::Nothing, start_renderloop::Bool)\n",
      "    @ GLMakie C:\\Users\\Piti_\\.julia\\packages\\GLMakie\\N16Fq\\src\\screen.jl:391\n",
      " [19] GLMakie.Screen(scene::Scene, config::GLMakie.ScreenConfig)\n",
      "    @ GLMakie C:\\Users\\Piti_\\.julia\\packages\\GLMakie\\N16Fq\\src\\screen.jl:387\n",
      " [20] getscreen(::Module, ::Scene; screen_config::Base.Pairs{Symbol, Union{}, Tuple{}, NamedTuple{(), Tuple{}}})\n",
      "    @ Makie C:\\Users\\Piti_\\.julia\\packages\\Makie\\gAmAB\\src\\display.jl:336\n",
      " [21] getscreen\n",
      "    @ C:\\Users\\Piti_\\.julia\\packages\\Makie\\gAmAB\\src\\display.jl:324 [inlined]\n",
      " [22] display(figlike::Makie.FigureAxisPlot; backend::Module, update::Bool, screen_config::Base.Pairs{Symbol, Union{}, Tuple{}, NamedTuple{(), Tuple{}}})\n",
      "    @ Makie C:\\Users\\Piti_\\.julia\\packages\\Makie\\gAmAB\\src\\display.jl:148\n",
      " [23] display(figlike::Makie.FigureAxisPlot)\n",
      "    @ Makie C:\\Users\\Piti_\\.julia\\packages\\Makie\\gAmAB\\src\\display.jl:133\n",
      " [24] #invokelatest#2\n",
      "    @ .\\essentials.jl:729 [inlined]\n",
      " [25] invokelatest\n",
      "    @ .\\essentials.jl:726 [inlined]\n",
      " [26] (::VSCodeServer.var\"#198#199\"{VSCodeServer.NotebookRunCellArguments, String})()\n",
      "    @ VSCodeServer c:\\Users\\Piti_\\.vscode\\extensions\\julialang.language-julia-1.41.1\\scripts\\packages\\VSCodeServer\\src\\serve_notebook.jl:48\n",
      " [27] withpath(f::VSCodeServer.var\"#198#199\"{VSCodeServer.NotebookRunCellArguments, String}, path::String)\n",
      "    @ VSCodeServer c:\\Users\\Piti_\\.vscode\\extensions\\julialang.language-julia-1.41.1\\scripts\\packages\\VSCodeServer\\src\\repl.jl:249\n",
      " [28] notebook_runcell_request(conn::VSCodeServer.JSONRPC.JSONRPCEndpoint{Base.PipeEndpoint, Base.PipeEndpoint}, params::VSCodeServer.NotebookRunCellArguments)\n",
      "    @ VSCodeServer c:\\Users\\Piti_\\.vscode\\extensions\\julialang.language-julia-1.41.1\\scripts\\packages\\VSCodeServer\\src\\serve_notebook.jl:13\n",
      " [29] dispatch_msg(x::VSCodeServer.JSONRPC.JSONRPCEndpoint{Base.PipeEndpoint, Base.PipeEndpoint}, dispatcher::VSCodeServer.JSONRPC.MsgDispatcher, msg::Dict{String, Any})\n",
      "    @ VSCodeServer.JSONRPC c:\\Users\\Piti_\\.vscode\\extensions\\julialang.language-julia-1.41.1\\scripts\\packages\\JSONRPC\\src\\typed.jl:67\n",
      " [30] serve_notebook(pipename::String, outputchannel_logger::Base.CoreLogging.SimpleLogger; crashreporting_pipename::String)\n",
      "    @ VSCodeServer c:\\Users\\Piti_\\.vscode\\extensions\\julialang.language-julia-1.41.1\\scripts\\packages\\VSCodeServer\\src\\serve_notebook.jl:139\n",
      " [31] top-level scope\n",
      "    @ c:\\Users\\Piti_\\.vscode\\extensions\\julialang.language-julia-1.41.1\\scripts\\notebook\\notebook.jl:32"
     ]
    }
   ],
   "source": [
    "#Convert displacement into Inches. 25.4 mm = 1 inch\n",
    "dis_in = displacements/25.4\n",
    "println(endidx)\n",
    "@show slope = P[endidx]/displacements[endidx]\n",
    "plt_calc_in = Makie.plot(dis_in[1:endidx], P_lb[1:endidx], label = \"Calculated Displacement\",\n",
    "    xlabel = \"Deflection (Inches)\", \n",
    "    ylabel = \"Load (lb)\"\n",
    ")\n",
    "\n",
    "# println(e_his[endidx]-e_his[1])\n",
    "# e_diff = \n",
    "# plt_e = Makie.plot(displacements, (em .- e_his[1:(endidx)]))\n",
    "# display(plt_e)\n",
    "# display(plt_calc_in)"
   ]
  },
  {
   "cell_type": "code",
   "execution_count": 33,
   "metadata": {},
   "outputs": [
    {
     "ename": "Makie.PlotMethodError",
     "evalue": "PlotMethodError: no plot method for arguments (::Makie.FigureAxisPlot, ::Makie.FigureAxisPlot, ::Makie.FigureAxisPlot). To support these arguments, define\n  plot!(::Combined{Any, S} where S<:Tuple{Makie.FigureAxisPlot, Makie.FigureAxisPlot, Makie.FigureAxisPlot})\nAvailable methods are:\n  plot!(plot::Combined{Any, <:Tuple{AbstractVector{<:Complex}}}) in Makie at C:\\Users\\Piti_\\.julia\\packages\\Makie\\gAmAB\\src\\basic_recipes\\convenience_functions.jl:1\n",
     "output_type": "error",
     "traceback": [
      "PlotMethodError: no plot method for arguments (::Makie.FigureAxisPlot, ::Makie.FigureAxisPlot, ::Makie.FigureAxisPlot). To support these arguments, define\n",
      "  plot!(::Combined{Any, S} where S<:Tuple{Makie.FigureAxisPlot, Makie.FigureAxisPlot, Makie.FigureAxisPlot})\n",
      "Available methods are:\n",
      "  plot!(plot::Combined{Any, <:Tuple{AbstractVector{<:Complex}}}) in Makie at C:\\Users\\Piti_\\.julia\\packages\\Makie\\gAmAB\\src\\basic_recipes\\convenience_functions.jl:1\n",
      "\n",
      "\n",
      "Stacktrace:\n",
      "  [1] _plot!(p::Combined{Any, Tuple{Makie.FigureAxisPlot, Makie.FigureAxisPlot, Makie.FigureAxisPlot}})\n",
      "    @ Makie C:\\Users\\Piti_\\.julia\\packages\\Makie\\gAmAB\\src\\interfaces.jl:336\n",
      "  [2] plot!(p::Combined{Any, Tuple{Makie.FigureAxisPlot, Makie.FigureAxisPlot, Makie.FigureAxisPlot}})\n",
      "    @ Makie C:\\Users\\Piti_\\.julia\\packages\\Makie\\gAmAB\\src\\interfaces.jl:331\n",
      "  [3] plot!(scene::Scene, P::Type{Combined{Any, Tuple{Makie.FigureAxisPlot, Makie.FigureAxisPlot, Makie.FigureAxisPlot}}}, attributes::Attributes, input::Tuple{Observable{Makie.FigureAxisPlot}, Observable{Makie.FigureAxisPlot}, Observable{Makie.FigureAxisPlot}}, args::Observable{Tuple{Makie.FigureAxisPlot, Makie.FigureAxisPlot, Makie.FigureAxisPlot}})\n",
      "    @ Makie C:\\Users\\Piti_\\.julia\\packages\\Makie\\gAmAB\\src\\interfaces.jl:413\n",
      "  [4] plot!(::Scene, ::Type{Any}, ::Attributes, ::Makie.FigureAxisPlot, ::Vararg{Makie.FigureAxisPlot}; kw_attributes::Base.Pairs{Symbol, Union{}, Tuple{}, NamedTuple{(), Tuple{}}})\n",
      "    @ Makie C:\\Users\\Piti_\\.julia\\packages\\Makie\\gAmAB\\src\\interfaces.jl:328\n",
      "  [5] plot!(::Scene, ::Type{Any}, ::Attributes, ::Makie.FigureAxisPlot, ::Makie.FigureAxisPlot, ::Makie.FigureAxisPlot)\n",
      "    @ Makie C:\\Users\\Piti_\\.julia\\packages\\Makie\\gAmAB\\src\\interfaces.jl:295\n",
      "  [6] plot(::Type{Any}, ::Makie.FigureAxisPlot, ::Vararg{Makie.FigureAxisPlot}; axis::NamedTuple{(), Tuple{}}, figure::NamedTuple{(), Tuple{}}, kw_attributes::Base.Pairs{Symbol, Union{}, Tuple{}, NamedTuple{(), Tuple{}}})\n",
      "    @ Makie C:\\Users\\Piti_\\.julia\\packages\\Makie\\gAmAB\\src\\figureplotting.jl:48\n",
      "  [7] plot\n",
      "    @ C:\\Users\\Piti_\\.julia\\packages\\Makie\\gAmAB\\src\\figureplotting.jl:31 [inlined]\n",
      "  [8] #plot#13\n",
      "    @ C:\\Users\\Piti_\\.julia\\packages\\MakieCore\\LOKNz\\src\\recipes.jl:34 [inlined]\n",
      "  [9] plot(::Makie.FigureAxisPlot, ::Makie.FigureAxisPlot, ::Makie.FigureAxisPlot)\n",
      "    @ MakieCore C:\\Users\\Piti_\\.julia\\packages\\MakieCore\\LOKNz\\src\\recipes.jl:33\n",
      " [10] top-level scope\n",
      "    @ c:\\Users\\Piti_\\dev\\Externally-prestressed-beams\\March_test_documentation.ipynb:9"
     ]
    }
   ],
   "source": [
    "plt_calc_mm = Makie.plot(displacements[1:endidx], P[1:endidx], label = \"Calculated Displacement\",\n",
    "    xlabel = \"Deflection (mm)\", \n",
    "    ylabel = \"Load (N)\",\n",
    "    title =  \"test\"\n",
    ")\n",
    "\n",
    "plt_fps = Makie.plot(displacements[1:endidx-1],fps_his[1:endidx-1])\n",
    "\n",
    "Makie.plot(plt_calc_in, plt_calc_mm, plt_fps)\n"
   ]
  },
  {
   "cell_type": "code",
   "execution_count": 29,
   "metadata": {},
   "outputs": [
    {
     "name": "stdout",
     "output_type": "stream",
     "text": [
      "[32.87510019600154, 33.04517083911829, 33.21523924292668, 33.38530540736243, 33.555369332361295, 33.725431017858995, 33.89549046379128, 34.065547670093885, 34.23560263670253, 34.40565536355297, 34.575705850580924, 34.74575409772214, 34.915800104912336, 35.08584387208725, 35.25588539918262, 35.42592468613417, 35.59596173287763, 35.76599653934874, 35.93602910548323, 36.10605943121681, 36.27608751648524, 36.44611336122422, 36.6161369653695, 36.78615832885679, 36.956177451621826, 37.12619433360034, 37.296208974728046, 37.46622137494067, 37.636231534173945, 37.8062394523636, 37.97624512944534, 38.14624856535491, 38.316249760028015, 38.486248713400386, 38.65624542540775, 38.82623989598582, 38.996232125070314, 39.16622211259697, 39.33620985850148, 39.506195362719595, 39.67617862518701, 39.84615964583946, 40.01613842461264, 40.18611496144229, 40.35608925626412, 40.52606130901385, 40.69603111962718, 40.865998688039845, 41.03596401418755, 41.20592709800601, 41.37588793943093, 41.545846538398045, 41.71580289484305, 41.88575700870166, 42.0557088799096, 42.22565850840257, 42.39560589411627, 42.565551036986434, 42.73549393694876, 42.90543459393894, 43.075373007892715, 43.24530917874577, 43.41524310643383, 43.58517479089259, 43.755104232057754, 43.92503142986504, 44.09495638425014, 44.26487909514877, 44.434799562496636, 44.604717786229436, 44.774633766282875, 44.94454750259265, 45.11445899509447, 45.284368243724046, 45.45427524841707, 45.62418000910924, 45.79408252573626, 45.963982798233836, 46.133880826537656, 46.30377661058343, 46.473670150306845, 46.643561445643606, 46.81345049652942, 46.98333730289997, 47.15322186469095, 47.32310418183807, 47.49298425427702, 47.66286208194349, 47.83273766477318, 48.002611002701784, 48.172482095664996, 48.3423509435985, 48.512217546437995, 48.68208190411918, 48.85194401657773, 49.02180388374936, 49.19166150556974, 49.36151688197456, 49.53137001289952, 49.701220898280305, 49.8710695380526, 50.0409159321521, 50.21076008051449, 50.38060198307545, 50.55044163977067, 50.720279050535844, 50.89011421530665, 51.05994713401877, 51.2297778066079, 51.399606233009706, 51.56943241315989, 51.739256346994125, 51.909078034448086, 52.078897475457474, 52.248714669957955, 52.41852961788521, 52.58834231917494, 52.75815277376279, 52.92796098158447, 53.097766942575646, 53.26757065667199, 53.4373721238092, 53.60717134392293, 53.77696831694887, 53.94676304282269, 54.116555521480066, 54.28634575285669, 54.45613373688822, 54.62591947351032, 54.79570296265869, 54.96548420426899, 55.13526319827689, 55.30503994461806, 55.47481444322818, 55.64458669404293, 55.814356696997955, 55.984124452028944, 56.15388995907156, 56.32365321806148, 56.493414228934355, 56.663172991625885, 56.8329295060717, 57.00268377220749, 57.172435789968915, 57.34218555929164, 57.51193308011135, 57.681678352363676, 57.8514213759843, 58.02116215090889, 58.19090067707312, 58.36063695441262, 58.53037098286308, 58.700102762360146, 58.8698322928395, 59.039559574236776, 59.20928460648766, 59.3790073895278, 59.548727923292844, 59.71844620771847, 59.88816224274034, 60.05787602829409, 60.2275875643154, 60.397296850739906, 60.567003887503276, 60.73670867454118, 60.906411211789255, 61.076111499183156, 61.24580953665853, 61.415505324151056, 61.58519886159637, 61.75489014893013, 61.92457918608799, 62.09426597300559, 62.26395050961861, 62.43363279586266, 62.60331283167342, 62.77299061698653, 62.942666151737654, 63.112339435862424, 63.28201046929649, 63.45167925197549, 63.621345783835096, 63.79101006481095, 63.9606720948387, 64.13033187385396, 64.29998940179242, 64.46964467858969, 64.63929770418143, 64.8089484785033, 64.97859700149091, 65.14824327307991, 65.31788729320597, 65.48752906180471, 65.65716857881176, 65.82680584416279, 65.99644085779343, 66.16607361963932, 66.33570412963608, 66.50533238771936, 66.67495839382482, 66.84458214788806, 67.01420364984475, 67.18382289963051, 67.35343989718098, 67.52305464243182, 67.69266713531862, 67.86227737577704, 68.0318853637427, 68.20149109915126, 68.37109458193834, 68.54069581203956, 68.71029478939056, 68.87989151392699, 69.04948598558445, 69.2190782042986, 69.38866817000508, 69.55825588263946, 69.72784134213741, 69.89742454843457, 70.06700550146655, 70.23658420116897, 70.40616064747749, 70.5757348403277, 70.74530677965525, 70.91487646539574, 71.08444389748483, 71.25400907585814, 71.42357200045124, 71.59313267119984, 71.76269108803947, 71.93224725090585, 72.10180115973452, 72.27135281446118, 72.44090221502137, 72.61044936135075, 72.77999425338494, 72.94953689105955, 73.11907727431023, 73.28861540307255, 73.45815127728216, 73.62768489687468, 73.7972162617857, 73.96674537195088, 74.1362722273058, 74.30579682778608, 74.47531917332735, 74.64483926386521, 74.8143570993353, 74.9838726796732, 75.15338600481452, 75.32289707469491, 75.49240588924997, 75.66191244841528, 75.8314167521265, 76.0009188003192, 76.170418592929, 76.33991612989153, 76.5094114111424, 76.67890443661717, 76.8483952062515, 77.01788371998097, 77.18736997774121, 77.35685397946781, 77.52633572509637, 77.69581521456251, 77.86529244780183, 78.03476742474993, 78.20424014534242, 78.3737106095149, 78.54317881720299, 78.71264476834227, 78.88210846286835, 79.05156990071683, 79.2210290818233, 79.39048600612338, 79.55994067355269, 79.72939308404676, 79.89884323754126, 80.06829113397175, 80.23773677327385, 80.40718015538314, 80.57662128023523, 80.74606014776569, 80.91549675791015, 81.08493111060417, 81.25436320578339, 81.4237930433834, 81.59322062333975, 81.76264594558805, 81.93206901006391, 82.10148981670292, 82.27090836544066, 82.44032465621274, 82.60973868895474, 82.77915046360224, 82.94855998009083, 83.11796723835612, 83.28737223833366, 83.4567749799591, 83.626175463168, 83.79557368789592, 83.96496965407849, 84.13436336165127, 84.30375481054983, 84.4731440007098, 84.64253093206673, 84.81191560455623, 84.98129801811386, 85.15067817267521, 85.32005606817589, 85.48943170455144, 85.65880508173746, 85.82817619966954, 85.99754505828327, 86.16691165751419, 86.33627599729792, 86.50563807757001, 86.67499789826604, 86.84435545932165, 87.01371076067234, 87.18306380225371, 87.35241458400137, 87.52176310585085, 87.69110936773777, 87.86045336959765, 88.0297951113661, 88.19913459297871, 88.36847181437102, 88.53780677547866, 88.70713947623713, 88.87646991658204, 89.04579809644893, 89.21512401577343, 89.38444767449106, 89.55376907253742, 89.72308820984807, 89.89240508635858, 90.06171970200452, 90.23103205672146, 90.40034215044494, 90.56964998311057, 90.7389555546539, 90.90825886501048, 91.07755991411592, 91.24685870190575, 91.41615522831552, 91.58544949328083, 91.75474149673724, 91.92403123862027, 92.09331871886555, 92.26260393740861, 92.431886894185, 92.60116758913028, 92.77044602218004, 92.9397221932698, 93.1089961023352, 93.2782677493117, 93.4475371341349, 93.61680425674038, 93.78606911706365, 93.95533171504032, 94.12459205060593, 94.293850123696, 94.46310593424613, 94.63235948219187, 94.80161076746876, 94.97085979001236, 95.14010654975823, 95.3093510466419, 95.47859328059894, 95.64783325156493, 95.81707095947539, 95.98630640426585, 96.1555395858719, 96.32477050422908, 96.49399915927296, 96.66322555093905, 96.83244967916289, 97.0016715438801, 97.17089114502615, 97.34010848253662, 97.50932355634708, 97.67853636639302, 97.84774691261005, 98.01695519493367, 98.18616121329946, 98.35536496764293, 98.52456645789964, 98.69376568400511, 98.86296264589492, 99.03215734350462, 99.2013497767697, 99.37053994562575, 99.53972785000826, 99.70891348985283, 99.87809686509497, 100.04727797567021, 100.21645682151413, 100.3856334025622, 100.55480771875001, 100.7239797700131]\n"
     ]
    }
   ],
   "source": [
    "println(fps_his)"
   ]
  },
  {
   "cell_type": "code",
   "execution_count": 30,
   "metadata": {},
   "outputs": [
    {
     "data": {
      "text/plain": [
       "Scatter{Tuple{Vector{Point{2, Float32}}}}"
      ]
     },
     "metadata": {},
     "output_type": "display_data"
    }
   ],
   "source": [
    "#add our calculated plot\n",
    "#plot\n",
    "plt = Makie.plot(test_d,test_P, label = \"Test Data\")\n",
    "Makie.plot!(dis_in[1:endidx-1], P_lb[1:endidx-1], label = \"Calculated Displacement\",\n",
    "xlabel = \"Deflection (Inches)\", ylabel = \"Load (lb)\")\n"
   ]
  },
  {
   "cell_type": "code",
   "execution_count": 31,
   "metadata": {},
   "outputs": [
    {
     "data": {
      "text/plain": [
       "32.87510019600154"
      ]
     },
     "metadata": {},
     "output_type": "display_data"
    }
   ],
   "source": [
    "store_dis = displacements\n",
    "store_fpe = fpe"
   ]
  },
  {
   "cell_type": "code",
   "execution_count": 32,
   "metadata": {},
   "outputs": [
    {
     "name": "stdout",
     "output_type": "stream",
     "text": [
      "Compare\n"
     ]
    }
   ],
   "source": [
    "println(\"Compare\")"
   ]
  },
  {
   "cell_type": "code",
   "execution_count": 14,
   "metadata": {},
   "outputs": [],
   "source": []
  },
  {
   "cell_type": "code",
   "execution_count": null,
   "metadata": {},
   "outputs": [],
   "source": []
  }
 ],
 "metadata": {
  "kernelspec": {
   "display_name": "Julia 1.8.5",
   "language": "julia",
   "name": "julia-1.8"
  },
  "language_info": {
   "file_extension": ".jl",
   "mimetype": "application/julia",
   "name": "julia",
   "version": "1.8.5"
  },
  "orig_nbformat": 4,
  "vscode": {
   "interpreter": {
    "hash": "7e60b941e13b12afcbf28adcef5274f6f77162f1109708c54ce9dc846b42c6cd"
   }
  }
 },
 "nbformat": 4,
 "nbformat_minor": 2
}
